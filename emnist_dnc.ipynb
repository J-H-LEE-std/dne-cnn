{
  "cells": [
    {
      "cell_type": "markdown",
      "metadata": {
        "id": "view-in-github",
        "colab_type": "text"
      },
      "source": [
        "<a href=\"https://colab.research.google.com/github/J-H-LEE-std/dne-cnn/blob/main/emnist_dnc.ipynb\" target=\"_parent\"><img src=\"https://colab.research.google.com/assets/colab-badge.svg\" alt=\"Open In Colab\"/></a>"
      ]
    },
    {
      "cell_type": "code",
      "source": [
        "from google.colab import drive\n",
        "drive.mount('/content/drive')"
      ],
      "metadata": {
        "colab": {
          "base_uri": "https://localhost:8080/"
        },
        "id": "deyVh9TWdYN2",
        "outputId": "7928c123-6fa9-47a9-899c-c4015b34d207"
      },
      "execution_count": 1,
      "outputs": [
        {
          "output_type": "stream",
          "name": "stdout",
          "text": [
            "Drive already mounted at /content/drive; to attempt to forcibly remount, call drive.mount(\"/content/drive\", force_remount=True).\n"
          ]
        }
      ]
    },
    {
      "cell_type": "code",
      "execution_count": 2,
      "metadata": {
        "colab": {
          "base_uri": "https://localhost:8080/"
        },
        "id": "-DhSvlQmLwuR",
        "outputId": "3a55429f-171b-44dd-a187-bec1c46dc75d"
      },
      "outputs": [
        {
          "output_type": "stream",
          "name": "stdout",
          "text": [
            "Looking in indexes: https://pypi.org/simple, https://us-python.pkg.dev/colab-wheels/public/simple/\n",
            "Collecting emnist\n",
            "  Downloading emnist-0.0-py3-none-any.whl (7.3 kB)\n",
            "Requirement already satisfied: requests in /usr/local/lib/python3.7/dist-packages (from emnist) (2.23.0)\n",
            "Requirement already satisfied: tqdm in /usr/local/lib/python3.7/dist-packages (from emnist) (4.64.1)\n",
            "Requirement already satisfied: numpy in /usr/local/lib/python3.7/dist-packages (from emnist) (1.21.6)\n",
            "Requirement already satisfied: chardet<4,>=3.0.2 in /usr/local/lib/python3.7/dist-packages (from requests->emnist) (3.0.4)\n",
            "Requirement already satisfied: idna<3,>=2.5 in /usr/local/lib/python3.7/dist-packages (from requests->emnist) (2.10)\n",
            "Requirement already satisfied: certifi>=2017.4.17 in /usr/local/lib/python3.7/dist-packages (from requests->emnist) (2022.9.24)\n",
            "Requirement already satisfied: urllib3!=1.25.0,!=1.25.1,<1.26,>=1.21.1 in /usr/local/lib/python3.7/dist-packages (from requests->emnist) (1.24.3)\n",
            "Installing collected packages: emnist\n",
            "Successfully installed emnist-0.0\n"
          ]
        }
      ],
      "source": [
        "!pip install emnist"
      ]
    },
    {
      "cell_type": "code",
      "execution_count": 3,
      "metadata": {
        "id": "F3i-UH2MLh9F"
      },
      "outputs": [],
      "source": [
        "import tensorflow as tf\n",
        "import numpy as np\n",
        "import os, random\n",
        "\n",
        "from emnist import extract_training_samples, extract_test_samples\n",
        "from tqdm import tqdm\n",
        "from functools import reduce"
      ]
    },
    {
      "cell_type": "code",
      "execution_count": 4,
      "metadata": {
        "id": "MPsG2YF-zWbx"
      },
      "outputs": [],
      "source": [
        "SEED = 42\n",
        "os.environ['PYTHONHASHSEED'] = str(SEED)\n",
        "os.environ['TF_DETERMINISTIC_OPS'] = '1'\n",
        "random.seed(SEED)\n",
        "tf.random.set_seed(SEED)\n",
        "np.random.seed(SEED)"
      ]
    },
    {
      "cell_type": "code",
      "execution_count": 5,
      "metadata": {
        "colab": {
          "base_uri": "https://localhost:8080/"
        },
        "id": "aQvfHof_MM4A",
        "outputId": "f4c48e88-3727-4e84-f89f-403c004c0ba8"
      },
      "outputs": [
        {
          "output_type": "stream",
          "name": "stderr",
          "text": [
            "Downloading emnist.zip: 536MB [00:06, 83.7MB/s]\n"
          ]
        },
        {
          "output_type": "stream",
          "name": "stdout",
          "text": [
            "[35 36  6 ...  5 11 22]\n",
            "[1 1 0 ... 0 1 1]\n"
          ]
        }
      ],
      "source": [
        "train_x, train_y = extract_training_samples('byclass')\n",
        "test_x, test_y = extract_test_samples('byclass')\n",
        "\n",
        "train_x = train_x.reshape(-1,28,28,1) / 255\n",
        "test_x = test_x.reshape(-1,28,28,1) / 255\n",
        "\n",
        "numeric = [x for x in range(10)]\n",
        "letter = [w for w in range(10, 62)]\n",
        "upper = [y for y in range(10, 36)]\n",
        "lower = [z for z in range(36, 62)]\n",
        "\n",
        "train_y_type = np.array([1 if i in letter else 0 for i in train_y])\n",
        "test_y_type = np.array([1 if i in letter else 0 for i in test_y])\n",
        "\n",
        "print(train_y)\n",
        "print(train_y_type)"
      ]
    },
    {
      "cell_type": "code",
      "execution_count": 6,
      "metadata": {
        "id": "VismQxkGNs9P"
      },
      "outputs": [],
      "source": [
        "class cnn(tf.keras.Model):\n",
        "  def __init__(self, output):\n",
        "    super(cnn, self).__init__()\n",
        "    self.resize = tf.keras.layers.Resizing(224, 224, interpolation='bilinear')\n",
        "    self.conv1 = tf.keras.layers.Conv2D(kernel_size=(3,3), filters=16, activation='relu')\n",
        "    self.conv2 = tf.keras.layers.Conv2D(kernel_size=(3,3), filters=32, activation='relu')\n",
        "    self.pool = tf.keras.layers.MaxPooling2D((2, 2))\n",
        "    self.flatten = tf.keras.layers.Flatten()\n",
        "    self.d1 = tf.keras.layers.Dense(32, activation='relu')\n",
        "    self.d2 = tf.keras.layers.Dense(output, activation='softmax')\n",
        "\n",
        "  def call(self, x):\n",
        "    x = self.resize(x)\n",
        "    x = tf.keras.layers.Concatenate()([x, x, x])\n",
        "    x = self.conv1(x)\n",
        "    x = self.pool(x)\n",
        "    x = self.conv2(x)\n",
        "    x = self.flatten(x)\n",
        "    x = self.d1(x)\n",
        "    return self.d2(x)\n",
        "\n",
        "class resnet(tf.keras.Model):\n",
        "    def __init__(self, output):\n",
        "      super().__init__()\n",
        "      self.resize = tf.keras.layers.Resizing(224, 224, interpolation='bilinear')          \n",
        "      self.resnet = tf.keras.applications.resnet50.ResNet50(include_top=False, pooling='avg')\n",
        "      self.dropout = tf.keras.layers.Dropout(0.50)\n",
        "      self.dense = tf.keras.layers.Dense(output, activation='softmax')\n",
        "        \n",
        "    def call(self, x):   \n",
        "      x = self.resize(x)\n",
        "      x = tf.keras.layers.Concatenate()([x, x, x])\n",
        "      x = self.resnet(x)\n",
        "      x = self.dropout(x)\n",
        "      return self.dense(x)"
      ]
    },
    {
      "cell_type": "code",
      "execution_count": 7,
      "metadata": {
        "colab": {
          "base_uri": "https://localhost:8080/"
        },
        "id": "yeG9IhZ6NxO1",
        "outputId": "8184dc0e-d8d4-4443-c3ab-72da0f023336"
      },
      "outputs": [
        {
          "output_type": "stream",
          "name": "stdout",
          "text": [
            "Epoch 1/5\n"
          ]
        },
        {
          "output_type": "stream",
          "name": "stderr",
          "text": [
            "/usr/local/lib/python3.7/dist-packages/tensorflow/python/util/dispatch.py:1082: UserWarning: \"`sparse_categorical_crossentropy` received `from_logits=True`, but the `output` argument was produced by a sigmoid or softmax activation and thus does not represent logits. Was this intended?\"\n",
            "  return dispatch_target(*args, **kwargs)\n"
          ]
        },
        {
          "output_type": "stream",
          "name": "stdout",
          "text": [
            "5453/5453 [==============================] - 161s 27ms/step - loss: 0.7610 - sparse_categorical_accuracy: 0.7678 - val_loss: 0.5704 - val_sparse_categorical_accuracy: 0.8127\n",
            "Epoch 2/5\n",
            "5453/5453 [==============================] - 135s 25ms/step - loss: 0.5389 - sparse_categorical_accuracy: 0.8211 - val_loss: 0.5403 - val_sparse_categorical_accuracy: 0.8153\n",
            "Epoch 3/5\n",
            "5453/5453 [==============================] - 135s 25ms/step - loss: 0.4868 - sparse_categorical_accuracy: 0.8341 - val_loss: 0.5053 - val_sparse_categorical_accuracy: 0.8298\n",
            "Epoch 4/5\n",
            "5453/5453 [==============================] - 136s 25ms/step - loss: 0.4502 - sparse_categorical_accuracy: 0.8434 - val_loss: 0.5153 - val_sparse_categorical_accuracy: 0.8275\n",
            "Epoch 5/5\n",
            "5453/5453 [==============================] - 135s 25ms/step - loss: 0.4184 - sparse_categorical_accuracy: 0.8521 - val_loss: 0.5103 - val_sparse_categorical_accuracy: 0.8304\n",
            "Downloading data from https://storage.googleapis.com/tensorflow/keras-applications/resnet/resnet50_weights_tf_dim_ordering_tf_kernels_notop.h5\n",
            "94773248/94765736 [==============================] - 0s 0us/step\n",
            "94781440/94765736 [==============================] - 0s 0us/step\n",
            "Epoch 1/10\n",
            "5453/5453 [==============================] - 1048s 191ms/step - loss: 0.9131 - sparse_categorical_accuracy: 0.7491 - val_loss: 0.4189 - val_sparse_categorical_accuracy: 0.8536\n",
            "Epoch 2/10\n",
            "5453/5453 [==============================] - 1039s 191ms/step - loss: 0.4508 - sparse_categorical_accuracy: 0.8438 - val_loss: 0.3739 - val_sparse_categorical_accuracy: 0.8642\n",
            "Epoch 3/10\n",
            "5453/5453 [==============================] - 1040s 191ms/step - loss: 0.4026 - sparse_categorical_accuracy: 0.8560 - val_loss: 0.3579 - val_sparse_categorical_accuracy: 0.8687\n",
            "Epoch 4/10\n",
            "5453/5453 [==============================] - 1039s 190ms/step - loss: 0.3783 - sparse_categorical_accuracy: 0.8625 - val_loss: 0.3482 - val_sparse_categorical_accuracy: 0.8713\n",
            "Epoch 5/10\n",
            "5453/5453 [==============================] - 1038s 190ms/step - loss: 0.3616 - sparse_categorical_accuracy: 0.8672 - val_loss: 0.3404 - val_sparse_categorical_accuracy: 0.8739\n",
            "Epoch 6/10\n",
            "5453/5453 [==============================] - 1038s 190ms/step - loss: 0.3489 - sparse_categorical_accuracy: 0.8708 - val_loss: 0.3357 - val_sparse_categorical_accuracy: 0.8751\n",
            "Epoch 7/10\n",
            "5453/5453 [==============================] - 1040s 191ms/step - loss: 0.3386 - sparse_categorical_accuracy: 0.8741 - val_loss: 0.3341 - val_sparse_categorical_accuracy: 0.8752\n",
            "Epoch 8/10\n",
            "5453/5453 [==============================] - 1038s 190ms/step - loss: 0.3297 - sparse_categorical_accuracy: 0.8767 - val_loss: 0.3315 - val_sparse_categorical_accuracy: 0.8755\n",
            "Epoch 9/10\n",
            "5453/5453 [==============================] - 1038s 190ms/step - loss: 0.3213 - sparse_categorical_accuracy: 0.8790 - val_loss: 0.3309 - val_sparse_categorical_accuracy: 0.8766\n",
            "Epoch 10/10\n",
            "5453/5453 [==============================] - 1038s 190ms/step - loss: 0.3137 - sparse_categorical_accuracy: 0.8815 - val_loss: 0.3298 - val_sparse_categorical_accuracy: 0.8772\n"
          ]
        }
      ],
      "source": [
        "model_cnn = cnn(62)\n",
        "model_cnn.compile(\n",
        "    optimizer=tf.keras.optimizers.Adam(0.001),\n",
        "    loss=tf.keras.losses.SparseCategoricalCrossentropy(from_logits=True),\n",
        "    metrics=[tf.keras.metrics.SparseCategoricalAccuracy()],\n",
        ")\n",
        "\n",
        "hist_cnn = model_cnn.fit(\n",
        "    train_x,\n",
        "    train_y,\n",
        "    epochs=5,\n",
        "    batch_size=128,\n",
        "    validation_data=(test_x, test_y)\n",
        ")\n",
        "\n",
        "model_res = resnet(62)\n",
        "model_res.compile(\n",
        "    optimizer=tf.keras.optimizers.SGD(0.001),\n",
        "    loss=tf.keras.losses.SparseCategoricalCrossentropy(from_logits=True),\n",
        "    metrics=[tf.keras.metrics.SparseCategoricalAccuracy()],\n",
        ")\n",
        "\n",
        "hist_res = model_res.fit(\n",
        "    train_x,\n",
        "    train_y,\n",
        "    epochs=10,\n",
        "    batch_size=128,\n",
        "    validation_data=(test_x, test_y)\n",
        ")\n"
      ]
    },
    {
      "cell_type": "code",
      "execution_count": 8,
      "metadata": {
        "colab": {
          "base_uri": "https://localhost:8080/",
          "height": 541
        },
        "id": "hzKKgb2fOKJm",
        "outputId": "4e9e75f5-dc62-455a-b245-e884346f5921"
      },
      "outputs": [
        {
          "output_type": "display_data",
          "data": {
            "text/plain": [
              "<Figure size 432x288 with 2 Axes>"
            ],
            "image/png": "[encoded data removed]"
          },
          "metadata": {
            "needs_background": "light"
          }
        },
        {
          "output_type": "display_data",
          "data": {
            "text/plain": [
              "<Figure size 432x288 with 2 Axes>"
            ],
            "image/png": "[encoded data removed]"
          },
          "metadata": {
            "needs_background": "light"
          }
        }
      ],
      "source": [
        "import matplotlib.pyplot as plt\n",
        "\n",
        "fig, loss_ax = plt.subplots()\n",
        "acc_ax = loss_ax.twinx()\n",
        "\n",
        "loss_ax.plot(hist_cnn.history['loss'], 'y', label='train loss')\n",
        "loss_ax.plot(hist_cnn.history['val_loss'], 'r', label='val loss')\n",
        "loss_ax.set_xlabel('epoch')\n",
        "loss_ax.set_ylabel('loss')\n",
        "loss_ax.legend(loc='upper left')\n",
        "\n",
        "acc_ax.plot(hist_cnn.history['sparse_categorical_accuracy'], 'b', label='train acc')\n",
        "acc_ax.plot(hist_cnn.history['val_sparse_categorical_accuracy'], 'g', label='val acc')\n",
        "acc_ax.set_ylabel('accuracy')\n",
        "acc_ax.legend(loc='upper left')\n",
        "\n",
        "plt.show()\n",
        "\n",
        "fig_2, loss2_ax = plt.subplots()\n",
        "acc2_ax = loss2_ax.twinx()\n",
        "\n",
        "loss2_ax.plot(hist_res.history['loss'], 'y', label='train loss')\n",
        "loss2_ax.plot(hist_res.history['val_loss'], 'r', label='val loss')\n",
        "loss2_ax.set_xlabel('epoch')\n",
        "loss2_ax.set_ylabel('loss')\n",
        "loss2_ax.legend(loc='upper left')\n",
        "\n",
        "acc2_ax.plot(hist_res.history['sparse_categorical_accuracy'], 'b', label='train acc')\n",
        "acc2_ax.plot(hist_res.history['val_sparse_categorical_accuracy'], 'g', label='val acc')\n",
        "acc2_ax.set_ylabel('accuracy')\n",
        "acc2_ax.legend(loc='upper left')\n",
        "\n",
        "plt.show()"
      ]
    },
    {
      "cell_type": "code",
      "execution_count": 9,
      "metadata": {
        "colab": {
          "base_uri": "https://localhost:8080/"
        },
        "id": "xO7BoD2bR0O7",
        "outputId": "de8816cd-b9ed-4f45-9f6a-1a7077b5368b"
      },
      "outputs": [
        {
          "output_type": "stream",
          "name": "stdout",
          "text": [
            "Dividing training set...\n"
          ]
        },
        {
          "output_type": "stream",
          "name": "stderr",
          "text": [
            "100%|██████████| 697932/697932 [00:01<00:00, 473915.79it/s]\n",
            "100%|██████████| 697932/697932 [00:01<00:00, 510240.04it/s]\n"
          ]
        },
        {
          "output_type": "stream",
          "name": "stdout",
          "text": [
            "Dividing test set...\n"
          ]
        },
        {
          "output_type": "stream",
          "name": "stderr",
          "text": [
            "100%|██████████| 116323/116323 [00:00<00:00, 462894.92it/s]\n",
            "100%|██████████| 116323/116323 [00:00<00:00, 514194.02it/s]\n"
          ]
        }
      ],
      "source": [
        "def split_numornot(x, y):\n",
        "  number = []\n",
        "  digit = []\n",
        "  for i, j in zip(tqdm(x), y):\n",
        "    number.append(i) if j < 10 else digit.append(i)\n",
        "\n",
        "  return (np.array(number), np.array(digit))\n",
        "\n",
        "print('Dividing training set...')\n",
        "train_number_x, train_digit_x = split_numornot(train_x, train_y)\n",
        "train_number_y, train_digit_y = split_numornot(train_y, train_y)\n",
        "print('Dividing test set...')\n",
        "test_number_x, test_digit_x = split_numornot(test_x, test_y)\n",
        "test_number_y, test_digit_y = split_numornot(test_y, test_y)\n",
        "train_digit_y = train_digit_y - 10\n",
        "test_digit_y = test_digit_y - 10"
      ]
    },
    {
      "cell_type": "code",
      "execution_count": 10,
      "metadata": {
        "colab": {
          "base_uri": "https://localhost:8080/",
          "height": 1000
        },
        "id": "4OLLeSeywHyG",
        "outputId": "ea00b5b3-1ad1-4110-b178-547ce623282f"
      },
      "outputs": [
        {
          "output_type": "stream",
          "name": "stdout",
          "text": [
            "Epoch 1/60\n",
            "5453/5453 [==============================] - 131s 24ms/step - loss: 0.4030 - sparse_categorical_accuracy: 0.8117 - val_loss: 0.3359 - val_sparse_categorical_accuracy: 0.8487\n",
            "Epoch 2/60\n",
            "5453/5453 [==============================] - 130s 24ms/step - loss: 0.3265 - sparse_categorical_accuracy: 0.8552 - val_loss: 0.3148 - val_sparse_categorical_accuracy: 0.8613\n",
            "Epoch 3/60\n",
            "5453/5453 [==============================] - 130s 24ms/step - loss: 0.3073 - sparse_categorical_accuracy: 0.8646 - val_loss: 0.3032 - val_sparse_categorical_accuracy: 0.8663\n",
            "Epoch 4/60\n",
            "5453/5453 [==============================] - 130s 24ms/step - loss: 0.2962 - sparse_categorical_accuracy: 0.8695 - val_loss: 0.2958 - val_sparse_categorical_accuracy: 0.8701\n",
            "Epoch 5/60\n",
            "5453/5453 [==============================] - 130s 24ms/step - loss: 0.2889 - sparse_categorical_accuracy: 0.8728 - val_loss: 0.2971 - val_sparse_categorical_accuracy: 0.8706\n",
            "Epoch 6/60\n",
            "5453/5453 [==============================] - 131s 24ms/step - loss: 0.2836 - sparse_categorical_accuracy: 0.8752 - val_loss: 0.2867 - val_sparse_categorical_accuracy: 0.8709\n",
            "Epoch 7/60\n",
            "5453/5453 [==============================] - 132s 24ms/step - loss: 0.2791 - sparse_categorical_accuracy: 0.8771 - val_loss: 0.3129 - val_sparse_categorical_accuracy: 0.8616\n",
            "Epoch 8/60\n",
            "5453/5453 [==============================] - 131s 24ms/step - loss: 0.2755 - sparse_categorical_accuracy: 0.8787 - val_loss: 0.2855 - val_sparse_categorical_accuracy: 0.8737\n",
            "Epoch 9/60\n",
            "5453/5453 [==============================] - 131s 24ms/step - loss: 0.2726 - sparse_categorical_accuracy: 0.8800 - val_loss: 0.2772 - val_sparse_categorical_accuracy: 0.8771\n",
            "Epoch 10/60\n",
            "5453/5453 [==============================] - 131s 24ms/step - loss: 0.2698 - sparse_categorical_accuracy: 0.8809 - val_loss: 0.2721 - val_sparse_categorical_accuracy: 0.8798\n",
            "Epoch 11/60\n",
            "5453/5453 [==============================] - 130s 24ms/step - loss: 0.2675 - sparse_categorical_accuracy: 0.8818 - val_loss: 0.2704 - val_sparse_categorical_accuracy: 0.8792\n",
            "Epoch 12/60\n",
            "5453/5453 [==============================] - 131s 24ms/step - loss: 0.2657 - sparse_categorical_accuracy: 0.8829 - val_loss: 0.2728 - val_sparse_categorical_accuracy: 0.8800\n",
            "Epoch 13/60\n",
            "5453/5453 [==============================] - 131s 24ms/step - loss: 0.2641 - sparse_categorical_accuracy: 0.8836 - val_loss: 0.2776 - val_sparse_categorical_accuracy: 0.8771\n",
            "Epoch 14/60\n",
            "5453/5453 [==============================] - 130s 24ms/step - loss: 0.2627 - sparse_categorical_accuracy: 0.8839 - val_loss: 0.2672 - val_sparse_categorical_accuracy: 0.8819\n",
            "Epoch 15/60\n",
            "5453/5453 [==============================] - 130s 24ms/step - loss: 0.2614 - sparse_categorical_accuracy: 0.8845 - val_loss: 0.2720 - val_sparse_categorical_accuracy: 0.8770\n",
            "Epoch 16/60\n",
            "5453/5453 [==============================] - 130s 24ms/step - loss: 0.2600 - sparse_categorical_accuracy: 0.8851 - val_loss: 0.2685 - val_sparse_categorical_accuracy: 0.8811\n",
            "Epoch 17/60\n",
            "5453/5453 [==============================] - 131s 24ms/step - loss: 0.2591 - sparse_categorical_accuracy: 0.8859 - val_loss: 0.2656 - val_sparse_categorical_accuracy: 0.8829\n",
            "Epoch 18/60\n",
            "5453/5453 [==============================] - 130s 24ms/step - loss: 0.2579 - sparse_categorical_accuracy: 0.8862 - val_loss: 0.2701 - val_sparse_categorical_accuracy: 0.8812\n",
            "Epoch 19/60\n",
            "5453/5453 [==============================] - 130s 24ms/step - loss: 0.2568 - sparse_categorical_accuracy: 0.8868 - val_loss: 0.2626 - val_sparse_categorical_accuracy: 0.8830\n",
            "Epoch 20/60\n",
            "5453/5453 [==============================] - 130s 24ms/step - loss: 0.2558 - sparse_categorical_accuracy: 0.8871 - val_loss: 0.2719 - val_sparse_categorical_accuracy: 0.8806\n",
            "Epoch 21/60\n",
            "5453/5453 [==============================] - 130s 24ms/step - loss: 0.2549 - sparse_categorical_accuracy: 0.8877 - val_loss: 0.2618 - val_sparse_categorical_accuracy: 0.8843\n",
            "Epoch 22/60\n",
            "5453/5453 [==============================] - 132s 24ms/step - loss: 0.2539 - sparse_categorical_accuracy: 0.8879 - val_loss: 0.2631 - val_sparse_categorical_accuracy: 0.8841\n",
            "Epoch 23/60\n",
            "5453/5453 [==============================] - 130s 24ms/step - loss: 0.2526 - sparse_categorical_accuracy: 0.8884 - val_loss: 0.2600 - val_sparse_categorical_accuracy: 0.8853\n",
            "Epoch 24/60\n",
            "5453/5453 [==============================] - 131s 24ms/step - loss: 0.2516 - sparse_categorical_accuracy: 0.8891 - val_loss: 0.2612 - val_sparse_categorical_accuracy: 0.8830\n",
            "Epoch 25/60\n",
            "5453/5453 [==============================] - 131s 24ms/step - loss: 0.2506 - sparse_categorical_accuracy: 0.8898 - val_loss: 0.2576 - val_sparse_categorical_accuracy: 0.8864\n",
            "Epoch 26/60\n",
            "5453/5453 [==============================] - 131s 24ms/step - loss: 0.2493 - sparse_categorical_accuracy: 0.8904 - val_loss: 0.2587 - val_sparse_categorical_accuracy: 0.8855\n",
            "Epoch 27/60\n",
            "5453/5453 [==============================] - 131s 24ms/step - loss: 0.2480 - sparse_categorical_accuracy: 0.8910 - val_loss: 0.2563 - val_sparse_categorical_accuracy: 0.8874\n",
            "Epoch 28/60\n",
            "5453/5453 [==============================] - 130s 24ms/step - loss: 0.2466 - sparse_categorical_accuracy: 0.8917 - val_loss: 0.2526 - val_sparse_categorical_accuracy: 0.8882\n",
            "Epoch 29/60\n",
            "5453/5453 [==============================] - 130s 24ms/step - loss: 0.2450 - sparse_categorical_accuracy: 0.8923 - val_loss: 0.2561 - val_sparse_categorical_accuracy: 0.8878\n",
            "Epoch 30/60\n",
            "5453/5453 [==============================] - 130s 24ms/step - loss: 0.2434 - sparse_categorical_accuracy: 0.8931 - val_loss: 0.2516 - val_sparse_categorical_accuracy: 0.8891\n",
            "Epoch 31/60\n",
            "5453/5453 [==============================] - 133s 24ms/step - loss: 0.2417 - sparse_categorical_accuracy: 0.8940 - val_loss: 0.2484 - val_sparse_categorical_accuracy: 0.8912\n",
            "Epoch 32/60\n",
            "5453/5453 [==============================] - 136s 25ms/step - loss: 0.2397 - sparse_categorical_accuracy: 0.8946 - val_loss: 0.2492 - val_sparse_categorical_accuracy: 0.8886\n",
            "Epoch 33/60\n",
            "5453/5453 [==============================] - 132s 24ms/step - loss: 0.2377 - sparse_categorical_accuracy: 0.8955 - val_loss: 0.2482 - val_sparse_categorical_accuracy: 0.8912\n",
            "Epoch 34/60\n",
            "5453/5453 [==============================] - 135s 25ms/step - loss: 0.2354 - sparse_categorical_accuracy: 0.8969 - val_loss: 0.2439 - val_sparse_categorical_accuracy: 0.8927\n",
            "Epoch 35/60\n",
            "5453/5453 [==============================] - 136s 25ms/step - loss: 0.2330 - sparse_categorical_accuracy: 0.8979 - val_loss: 0.2412 - val_sparse_categorical_accuracy: 0.8936\n",
            "Epoch 36/60\n",
            "5453/5453 [==============================] - 135s 25ms/step - loss: 0.2306 - sparse_categorical_accuracy: 0.8990 - val_loss: 0.2426 - val_sparse_categorical_accuracy: 0.8915\n",
            "Epoch 37/60\n",
            "5453/5453 [==============================] - 136s 25ms/step - loss: 0.2281 - sparse_categorical_accuracy: 0.9000 - val_loss: 0.2352 - val_sparse_categorical_accuracy: 0.8957\n",
            "Epoch 38/60\n",
            "5453/5453 [==============================] - 135s 25ms/step - loss: 0.2255 - sparse_categorical_accuracy: 0.9010 - val_loss: 0.2351 - val_sparse_categorical_accuracy: 0.8967\n",
            "Epoch 39/60\n",
            "5453/5453 [==============================] - 133s 24ms/step - loss: 0.2231 - sparse_categorical_accuracy: 0.9019 - val_loss: 0.2330 - val_sparse_categorical_accuracy: 0.8966\n",
            "Epoch 40/60\n",
            "5453/5453 [==============================] - 135s 25ms/step - loss: 0.2206 - sparse_categorical_accuracy: 0.9030 - val_loss: 0.2293 - val_sparse_categorical_accuracy: 0.8998\n",
            "Epoch 41/60\n",
            "5453/5453 [==============================] - 135s 25ms/step - loss: 0.2183 - sparse_categorical_accuracy: 0.9042 - val_loss: 0.2359 - val_sparse_categorical_accuracy: 0.8972\n",
            "Epoch 42/60\n",
            "5453/5453 [==============================] - 132s 24ms/step - loss: 0.2158 - sparse_categorical_accuracy: 0.9052 - val_loss: 0.2260 - val_sparse_categorical_accuracy: 0.8996\n",
            "Epoch 43/60\n",
            "5453/5453 [==============================] - 132s 24ms/step - loss: 0.2135 - sparse_categorical_accuracy: 0.9062 - val_loss: 0.2231 - val_sparse_categorical_accuracy: 0.9010\n",
            "Epoch 44/60\n",
            "5453/5453 [==============================] - 136s 25ms/step - loss: 0.2113 - sparse_categorical_accuracy: 0.9072 - val_loss: 0.2217 - val_sparse_categorical_accuracy: 0.9017\n",
            "Epoch 45/60\n",
            "5453/5453 [==============================] - 135s 25ms/step - loss: 0.2091 - sparse_categorical_accuracy: 0.9081 - val_loss: 0.2218 - val_sparse_categorical_accuracy: 0.9026\n",
            "Epoch 46/60\n",
            "5453/5453 [==============================] - 135s 25ms/step - loss: 0.2071 - sparse_categorical_accuracy: 0.9089 - val_loss: 0.2179 - val_sparse_categorical_accuracy: 0.9035\n",
            "Epoch 47/60\n",
            "5453/5453 [==============================] - 131s 24ms/step - loss: 0.2050 - sparse_categorical_accuracy: 0.9100 - val_loss: 0.2170 - val_sparse_categorical_accuracy: 0.9036\n",
            "Epoch 48/60\n",
            "5453/5453 [==============================] - 134s 24ms/step - loss: 0.2031 - sparse_categorical_accuracy: 0.9103 - val_loss: 0.2155 - val_sparse_categorical_accuracy: 0.9050\n",
            "Epoch 49/60\n",
            "5453/5453 [==============================] - 133s 24ms/step - loss: 0.2013 - sparse_categorical_accuracy: 0.9112 - val_loss: 0.2151 - val_sparse_categorical_accuracy: 0.9044\n",
            "Epoch 50/60\n",
            "5453/5453 [==============================] - 133s 24ms/step - loss: 0.1996 - sparse_categorical_accuracy: 0.9118 - val_loss: 0.2133 - val_sparse_categorical_accuracy: 0.9049\n",
            "Epoch 51/60\n",
            "5453/5453 [==============================] - 133s 24ms/step - loss: 0.1979 - sparse_categorical_accuracy: 0.9126 - val_loss: 0.2152 - val_sparse_categorical_accuracy: 0.9045\n",
            "Epoch 52/60\n",
            "5453/5453 [==============================] - 133s 24ms/step - loss: 0.1965 - sparse_categorical_accuracy: 0.9131 - val_loss: 0.2114 - val_sparse_categorical_accuracy: 0.9071\n",
            "Epoch 53/60\n",
            "5453/5453 [==============================] - 132s 24ms/step - loss: 0.1949 - sparse_categorical_accuracy: 0.9143 - val_loss: 0.2157 - val_sparse_categorical_accuracy: 0.9031\n",
            "Epoch 54/60\n",
            "5453/5453 [==============================] - 129s 24ms/step - loss: 0.1935 - sparse_categorical_accuracy: 0.9146 - val_loss: 0.2119 - val_sparse_categorical_accuracy: 0.9068\n",
            "Epoch 55/60\n",
            "5453/5453 [==============================] - 128s 24ms/step - loss: 0.1921 - sparse_categorical_accuracy: 0.9153 - val_loss: 0.2104 - val_sparse_categorical_accuracy: 0.9065\n",
            "Epoch 56/60\n",
            "5453/5453 [==============================] - 129s 24ms/step - loss: 0.1909 - sparse_categorical_accuracy: 0.9154 - val_loss: 0.2092 - val_sparse_categorical_accuracy: 0.9075\n",
            "Epoch 57/60\n",
            "5453/5453 [==============================] - 129s 24ms/step - loss: 0.1896 - sparse_categorical_accuracy: 0.9161 - val_loss: 0.2126 - val_sparse_categorical_accuracy: 0.9035\n",
            "Epoch 58/60\n",
            "5453/5453 [==============================] - 128s 23ms/step - loss: 0.1884 - sparse_categorical_accuracy: 0.9166 - val_loss: 0.2068 - val_sparse_categorical_accuracy: 0.9092\n",
            "Epoch 59/60\n",
            "5453/5453 [==============================] - 128s 23ms/step - loss: 0.1873 - sparse_categorical_accuracy: 0.9172 - val_loss: 0.2114 - val_sparse_categorical_accuracy: 0.9062\n",
            "Epoch 60/60\n",
            "5453/5453 [==============================] - 130s 24ms/step - loss: 0.1862 - sparse_categorical_accuracy: 0.9176 - val_loss: 0.2096 - val_sparse_categorical_accuracy: 0.9089\n"
          ]
        },
        {
          "output_type": "display_data",
          "data": {
            "text/plain": [
              "<Figure size 432x288 with 2 Axes>"
            ],
            "image/png": "[encoded data removed]"
          },
          "metadata": {
            "needs_background": "light"
          }
        }
      ],
      "source": [
        "model_cnn_root = cnn(2)\n",
        "model_cnn_root.compile(\n",
        "    optimizer=tf.keras.optimizers.SGD(0.001),\n",
        "    loss=tf.keras.losses.SparseCategoricalCrossentropy(from_logits=True),\n",
        "    metrics=[tf.keras.metrics.SparseCategoricalAccuracy()],\n",
        ")\n",
        "\n",
        "hist_cnn_root = model_cnn_root.fit(\n",
        "    train_x,\n",
        "    train_y_type,\n",
        "    epochs=60,\n",
        "    batch_size=128,\n",
        "    validation_data=(test_x, test_y_type)\n",
        ")\n",
        "\n",
        "fig, loss_ax = plt.subplots()\n",
        "acc_ax = loss_ax.twinx()\n",
        "\n",
        "loss_ax.plot(hist_cnn_root.history['loss'], 'y', label='train loss')\n",
        "loss_ax.plot(hist_cnn_root.history['val_loss'], 'r', label='val loss')\n",
        "loss_ax.set_xlabel('epoch')\n",
        "loss_ax.set_ylabel('loss')\n",
        "loss_ax.legend(loc='upper left')\n",
        "\n",
        "acc_ax.plot(hist_cnn_root.history['sparse_categorical_accuracy'], 'b', label='train acc')\n",
        "acc_ax.plot(hist_cnn_root.history['val_sparse_categorical_accuracy'], 'g', label='val acc')\n",
        "acc_ax.set_ylabel('accuracy')\n",
        "acc_ax.legend(loc='upper left')\n",
        "\n",
        "plt.show()"
      ]
    },
    {
      "cell_type": "code",
      "execution_count": 11,
      "metadata": {
        "colab": {
          "base_uri": "https://localhost:8080/"
        },
        "id": "YvDCYrDrov0U",
        "outputId": "a164591c-bfc7-4517-b5ee-8e39ee69cc94"
      },
      "outputs": [
        {
          "output_type": "stream",
          "name": "stdout",
          "text": [
            "Epoch 1/10\n",
            "2696/2696 [==============================] - 526s 193ms/step - loss: 0.0303 - sparse_categorical_accuracy: 0.9915 - val_loss: 0.0156 - val_sparse_categorical_accuracy: 0.9957\n",
            "Epoch 2/10\n",
            "2696/2696 [==============================] - 518s 192ms/step - loss: 0.0152 - sparse_categorical_accuracy: 0.9959 - val_loss: 0.0137 - val_sparse_categorical_accuracy: 0.9961\n",
            "Epoch 3/10\n",
            "2696/2696 [==============================] - 518s 192ms/step - loss: 0.0122 - sparse_categorical_accuracy: 0.9966 - val_loss: 0.0177 - val_sparse_categorical_accuracy: 0.9955\n",
            "Epoch 4/10\n",
            "2696/2696 [==============================] - 518s 192ms/step - loss: 0.0101 - sparse_categorical_accuracy: 0.9973 - val_loss: 0.0174 - val_sparse_categorical_accuracy: 0.9955\n",
            "Epoch 5/10\n",
            "2696/2696 [==============================] - 519s 192ms/step - loss: 0.0082 - sparse_categorical_accuracy: 0.9978 - val_loss: 0.0123 - val_sparse_categorical_accuracy: 0.9968\n",
            "Epoch 6/10\n",
            "2696/2696 [==============================] - 519s 192ms/step - loss: 0.0068 - sparse_categorical_accuracy: 0.9981 - val_loss: 0.0146 - val_sparse_categorical_accuracy: 0.9966\n",
            "Epoch 7/10\n",
            "2696/2696 [==============================] - 518s 192ms/step - loss: 0.0056 - sparse_categorical_accuracy: 0.9984 - val_loss: 0.0132 - val_sparse_categorical_accuracy: 0.9967\n",
            "Epoch 8/10\n",
            "2696/2696 [==============================] - 518s 192ms/step - loss: 0.0043 - sparse_categorical_accuracy: 0.9987 - val_loss: 0.0168 - val_sparse_categorical_accuracy: 0.9958\n",
            "Epoch 9/10\n",
            "2696/2696 [==============================] - 517s 192ms/step - loss: 0.0035 - sparse_categorical_accuracy: 0.9990 - val_loss: 0.0171 - val_sparse_categorical_accuracy: 0.9958\n",
            "Epoch 10/10\n",
            "2696/2696 [==============================] - 518s 192ms/step - loss: 0.0034 - sparse_categorical_accuracy: 0.9989 - val_loss: 0.0161 - val_sparse_categorical_accuracy: 0.9963\n",
            "Epoch 1/5\n",
            "2758/2758 [==============================] - 537s 193ms/step - loss: 0.4622 - sparse_categorical_accuracy: 0.8405 - val_loss: 0.3836 - val_sparse_categorical_accuracy: 0.8610\n",
            "Epoch 2/5\n",
            "2758/2758 [==============================] - 530s 192ms/step - loss: 0.3573 - sparse_categorical_accuracy: 0.8666 - val_loss: 0.3504 - val_sparse_categorical_accuracy: 0.8705\n",
            "Epoch 3/5\n",
            "2758/2758 [==============================] - 529s 192ms/step - loss: 0.3352 - sparse_categorical_accuracy: 0.8735 - val_loss: 0.3398 - val_sparse_categorical_accuracy: 0.8708\n",
            "Epoch 4/5\n",
            "2758/2758 [==============================] - 530s 192ms/step - loss: 0.3178 - sparse_categorical_accuracy: 0.8784 - val_loss: 0.3409 - val_sparse_categorical_accuracy: 0.8715\n",
            "Epoch 5/5\n",
            "2758/2758 [==============================] - 531s 193ms/step - loss: 0.3022 - sparse_categorical_accuracy: 0.8831 - val_loss: 0.3352 - val_sparse_categorical_accuracy: 0.8748\n"
          ]
        }
      ],
      "source": [
        "model_resnet_number = resnet(10)\n",
        "model_resnet_number.compile(\n",
        "    optimizer=tf.keras.optimizers.Adam(0.0001),\n",
        "    loss=tf.keras.losses.SparseCategoricalCrossentropy(from_logits=True),\n",
        "    metrics=[tf.keras.metrics.SparseCategoricalAccuracy()],\n",
        ")\n",
        "\n",
        "hist_resnet_number = model_resnet_number.fit(\n",
        "    train_number_x,\n",
        "    train_number_y,\n",
        "    epochs=10,\n",
        "    batch_size=128,\n",
        "    validation_data=(test_number_x, test_number_y)\n",
        ")\n",
        "\n",
        "model_resnet_digit = resnet(52)\n",
        "model_resnet_digit.compile(\n",
        "    optimizer=tf.keras.optimizers.Adam(0.0001),\n",
        "    loss=tf.keras.losses.SparseCategoricalCrossentropy(from_logits=True),\n",
        "    metrics=[tf.keras.metrics.SparseCategoricalAccuracy()],\n",
        ")\n",
        "\n",
        "hist_resnet_digit = model_resnet_digit.fit(\n",
        "    train_digit_x,\n",
        "    train_digit_y,\n",
        "    epochs=5,\n",
        "    batch_size=128,\n",
        "    validation_data=(test_digit_x, test_digit_y)\n",
        ")"
      ]
    },
    {
      "cell_type": "code",
      "execution_count": 12,
      "metadata": {
        "id": "SIyQyASmsk1m"
      },
      "outputs": [],
      "source": [
        "class test():\n",
        "  def __init__(self, x_test, y_test):\n",
        "    self.test_x = x_test\n",
        "    self.test_y = y_test\n",
        "    self.conf = np.zeros(shape=(62, 62), dtype=np.int32)\n",
        "\n",
        "  def confuse_matrix(self):\n",
        "    print(self.conf)\n",
        "    sum_acc = reduce(lambda x, y: x + y, [self.conf[i][i] for i in range(62)])\n",
        "    print(f\"acc = {sum_acc / np.sum(self.conf)}\")\n",
        "\n",
        "  def test(self, root, child1, child2):\n",
        "    childnode = [child1, child2]\n",
        "    for x, y in zip(tqdm(self.test_x), self.test_y):\n",
        "      final_x = x.reshape(-1,28,28,1)\n",
        "      mid_result = root.predict(final_x)\n",
        "      result = childnode[np.argmax(mid_result)](final_x)\n",
        "      pred = np.argmax(result) if np.argmax(mid_result) == 0 else np.argmax(result)+10\n",
        "      self.conf[pred][y] += 1\n",
        "  \n",
        "  def export_conf(self):\n",
        "    return self.conf"
      ]
    },
    {
      "cell_type": "code",
      "execution_count": 13,
      "metadata": {
        "colab": {
          "base_uri": "https://localhost:8080/"
        },
        "id": "Qh9pco_gOWGQ",
        "outputId": "0aa705d4-00dc-43ac-a775-a2e3a3e1a5ae"
      },
      "outputs": [
        {
          "output_type": "stream",
          "name": "stdout",
          "text": [
            "Model: \"cnn_1\"\n",
            "_________________________________________________________________\n",
            " Layer (type)                Output Shape              Param #   \n",
            "=================================================================\n",
            " resizing_2 (Resizing)       multiple                  0         \n",
            "                                                                 \n",
            " conv2d_2 (Conv2D)           multiple                  448       \n",
            "                                                                 \n",
            " conv2d_3 (Conv2D)           multiple                  4640      \n",
            "                                                                 \n",
            " max_pooling2d_1 (MaxPooling  multiple                 0         \n",
            " 2D)                                                             \n",
            "                                                                 \n",
            " flatten_1 (Flatten)         multiple                  0         \n",
            "                                                                 \n",
            " dense_3 (Dense)             multiple                  12166176  \n",
            "                                                                 \n",
            " dense_4 (Dense)             multiple                  66        \n",
            "                                                                 \n",
            "=================================================================\n",
            "Total params: 12,171,330\n",
            "Trainable params: 12,171,330\n",
            "Non-trainable params: 0\n",
            "_________________________________________________________________\n"
          ]
        },
        {
          "output_type": "stream",
          "name": "stderr",
          "text": [
            "100%|██████████| 116323/116323 [3:45:22<00:00,  8.60it/s]"
          ]
        },
        {
          "output_type": "stream",
          "name": "stdout",
          "text": [
            "[[4346    0    1 ...    0    0    0]\n",
            " [   1 5647    7 ...    2    2    0]\n",
            " [   1    0 5559 ...    2    1  105]\n",
            " ...\n",
            " [   2    0    1 ...  324    1    0]\n",
            " [   0    0    0 ...    1  183    0]\n",
            " [   0    0  142 ...    0    0  304]]\n",
            "acc = 0.8571477695726555\n"
          ]
        },
        {
          "output_type": "stream",
          "name": "stderr",
          "text": [
            "\n"
          ]
        }
      ],
      "source": [
        "model_cnn_root.summary()\n",
        "\n",
        "testing = test(test_x, test_y)\n",
        "testing.test(model_cnn_root, model_resnet_number, model_resnet_digit)\n",
        "testing.confuse_matrix()"
      ]
    },
    {
      "cell_type": "code",
      "source": [
        "with open('/content/drive/MyDrive/colab/conf.csv', 'w') as f:\n",
        "  conf = testing.export_conf()\n",
        "  for cf in conf:\n",
        "    cf_list = cf.tolist()\n",
        "    f.write(','.join(map(str,cf_list)))\n",
        "    f.write(' ')"
      ],
      "metadata": {
        "id": "w1m632zjdqfI"
      },
      "execution_count": 15,
      "outputs": []
    }
  ],
  "metadata": {
    "accelerator": "GPU",
    "colab": {
      "collapsed_sections": [],
      "machine_shape": "hm",
      "provenance": [],
      "history_visible": true,
      "include_colab_link": true
    },
    "gpuClass": "premium",
    "kernelspec": {
      "display_name": "Python 3",
      "name": "python3"
    },
    "language_info": {
      "name": "python"
    }
  },
  "nbformat": 4,
  "nbformat_minor": 0
}